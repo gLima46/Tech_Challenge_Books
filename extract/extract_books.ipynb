{
 "cells": [
  {
   "cell_type": "code",
   "execution_count": null,
   "id": "fd6d11e4-cb29-469a-b0c0-266fd50e4102",
   "metadata": {},
   "outputs": [],
   "source": [
    "import requests\n",
    "from bs4 import BeautifulSoup\n",
    "import pandas as pd\n",
    "import sqlite3\n",
    "import os\n",
    "import re"
   ]
  },
  {
   "cell_type": "code",
   "execution_count": null,
   "id": "36a658da-d5ed-40a9-bf09-20585afd3feb",
   "metadata": {},
   "outputs": [
    {
     "name": "stdout",
     "output_type": "stream",
     "text": [
      "Dados salvos em data/books.csv\n",
      "Dados salvos em data/books.db na tabela 'books'.\n"
     ]
    }
   ],
   "source": [
    "def scrape_books(pages=50):\n",
    "    base_url = \"http://books.toscrape.com/catalogue/page-{}.html\"\n",
    "    books = []\n",
    "    count = 1\n",
    "\n",
    "    for page in range(1, pages + 1):\n",
    "        res = requests.get(base_url.format(page))\n",
    "        if res.status_code != 200:\n",
    "            print(f\"Falha ao acessar a página {page}\")\n",
    "            continue\n",
    "\n",
    "        soup = BeautifulSoup(res.text, 'html.parser')\n",
    "        articles = soup.find_all(\"article\", class_=\"product_pod\")\n",
    "\n",
    "        for book in articles:\n",
    "            title = book.h3.a['title']\n",
    "            price_text = book.find(\"p\", class_=\"price_color\").text\n",
    "            price = float(re.sub(r'[^\\d.]', '', price_text))\n",
    "            availability = book.find(\"p\", class_=\"instock availability\").text.strip()\n",
    "            rating = book.p['class'][1]\n",
    "\n",
    "            book_url = \"http://books.toscrape.com/catalogue/\" + book.h3.a['href']\n",
    "\n",
    "            book_res = requests.get(book_url)\n",
    "            book_soup = BeautifulSoup(book_res.text, 'html.parser')\n",
    "\n",
    "            category = book_soup.select(\"ul.breadcrumb li a\")[-1].text.strip()\n",
    "\n",
    "            image_relative_url = book_soup.find(\"div\", class_=\"item active\").img['src']\n",
    "            image_url = \"http://books.toscrape.com/\" + image_relative_url.replace('../', '')\n",
    "\n",
    "            books.append({\n",
    "                \"id\": count,\n",
    "                \"title\": title,\n",
    "                \"Sigla_Moeda\": \"Libra\",\n",
    "                \"Simbolo_Moeda\": \"£\",\n",
    "                \"price\": price,\n",
    "                \"availability\": availability,\n",
    "                \"rating\": rating,\n",
    "                \"category\": category,\n",
    "                \"image_url\": image_url\n",
    "            })\n",
    "            \n",
    "            count = count+1\n",
    "\n",
    "    df = pd.DataFrame(books)\n",
    "\n",
    "    os.makedirs(\"data\", exist_ok=True)\n",
    "    df.to_csv('../data_base/books.csv', index=False)\n",
    "    print(\"Dados salvos em data/books.csv\")\n",
    "\n",
    "    conn = sqlite3.connect(\"../data_base/books.db\")\n",
    "    df.to_sql(\"books\", conn, if_exists=\"replace\", index=False)\n",
    "    conn.close()\n",
    "    print(\"Dados salvos em data_base/books.db na tabela 'books'.\")\n",
    "\n",
    "if __name__ == \"__main__\":\n",
    "    scrape_books()"
   ]
  },
  {
   "cell_type": "code",
   "execution_count": 3,
   "id": "f1d1d2b3-49c3-423b-a8d3-413d33432719",
   "metadata": {},
   "outputs": [
    {
     "name": "stdout",
     "output_type": "stream",
     "text": [
      "   id                                  title Sigla_Moeda Simbolo_Moeda  price  \\\n",
      "0   1                   A Light in the Attic       Libra             £  51.77   \n",
      "1   2                     Tipping the Velvet       Libra             £  53.74   \n",
      "2   3                             Soumission       Libra             £  50.10   \n",
      "3   4                          Sharp Objects       Libra             £  47.82   \n",
      "4   5  Sapiens: A Brief History of Humankind       Libra             £  54.23   \n",
      "\n",
      "  availability rating            category  \\\n",
      "0     In stock  Three              Poetry   \n",
      "1     In stock    One  Historical Fiction   \n",
      "2     In stock    One             Fiction   \n",
      "3     In stock   Four             Mystery   \n",
      "4     In stock   Five             History   \n",
      "\n",
      "                                           image_url  \n",
      "0  http://books.toscrape.com/media/cache/fe/72/fe...  \n",
      "1  http://books.toscrape.com/media/cache/08/e9/08...  \n",
      "2  http://books.toscrape.com/media/cache/ee/cf/ee...  \n",
      "3  http://books.toscrape.com/media/cache/c0/59/c0...  \n",
      "4  http://books.toscrape.com/media/cache/ce/5f/ce...  \n"
     ]
    }
   ],
   "source": [
    "import sqlite3\n",
    "conn = sqlite3.connect(\"../data/books.db\")\n",
    "df = pd.read_sql(\"SELECT * FROM books\", conn)\n",
    "print(df.head())\n",
    "conn.close()\n"
   ]
  },
  {
   "cell_type": "code",
   "execution_count": null,
   "id": "85810ff6-a9b6-4e9b-9162-14fe11c2649c",
   "metadata": {},
   "outputs": [],
   "source": []
  }
 ],
 "metadata": {
  "kernelspec": {
   "display_name": "Python 3 (ipykernel)",
   "language": "python",
   "name": "python3"
  },
  "language_info": {
   "codemirror_mode": {
    "name": "ipython",
    "version": 3
   },
   "file_extension": ".py",
   "mimetype": "text/x-python",
   "name": "python",
   "nbconvert_exporter": "python",
   "pygments_lexer": "ipython3",
   "version": "3.12.4"
  }
 },
 "nbformat": 4,
 "nbformat_minor": 5
}
