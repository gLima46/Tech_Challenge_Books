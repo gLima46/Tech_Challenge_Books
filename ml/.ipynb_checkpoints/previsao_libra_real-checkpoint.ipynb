{
 "cells": [
  {
   "cell_type": "code",
   "execution_count": null,
   "id": "bd7c726c",
   "metadata": {},
   "outputs": [],
   "source": [
    "import requests\n",
    "import pandas as pd\n",
    "from prophet import Prophet\n",
    "import matplotlib.pyplot as plt\n",
    "\n",
    "def obter_cotacoes(moeda='GBP', data_inicio='01-01-2023', data_fim='10-07-2025'):\n",
    "    url = f\"https://olinda.bcb.gov.br/olinda/servico/PTAX/versao/v1/odata/\" \\\n",
    "          f\"CotacaoMoedaPeriodo(moeda=@moeda,dataInicial=@dataInicial,dataFinalCotacao=@dataFinalCotacao)?\" \\\n",
    "          f\"@moeda='{moeda}'&@dataInicial='{data_inicio}'&@dataFinalCotacao='{data_fim}'&\" \\\n",
    "          f\"$top=10000&$format=json\"\n",
    "\n",
    "    response = requests.get(url)\n",
    "    data = response.json()['value']\n",
    "    df = pd.DataFrame(data)\n",
    "    df['dataHoraCotacao'] = pd.to_datetime(df['dataHoraCotacao'])\n",
    "    df = df.sort_values('dataHoraCotacao')\n",
    "    df = df[['dataHoraCotacao', 'cotacaoVenda']]\n",
    "    df.columns = ['ds', 'y']\n",
    "    return df\n",
    "\n",
    "df = obter_cotacoes()\n",
    "\n",
    "model = Prophet()\n",
    "model.fit(df)\n",
    "\n",
    "future = model.make_future_dataframe(periods=180)\n",
    "forecast = model.predict(future)\n",
    "\n",
    "model.plot(forecast)\n",
    "plt.title(\"Previsão da Cotação da Libra (GBP/BRL)\")\n",
    "plt.xlabel(\"Data\")\n",
    "plt.ylabel(\"Cotação\")\n",
    "plt.grid(True)\n",
    "plt.show()\n",
    "\n",
    "\n",
    "def converter_libras_para_reais(valor_libras, data_prevista):\n",
    "    data_prevista = pd.to_datetime(data_prevista)\n",
    "    forecast['diff'] = abs(forecast['ds'] - data_prevista)\n",
    "    row = forecast.loc[forecast['diff'].idxmin()]\n",
    "    cotacao = row['yhat']\n",
    "    return round(valor_libras * cotacao, 2), cotacao\n",
    "\n",
    "\n",
    "libras = 100\n",
    "data = '2025-11-10'\n",
    "valor_em_reais, cotacao = converter_libras_para_reais(libras, data)\n",
    "print(f\"Em {data}, £{libras} valerão aproximadamente R${valor_em_reais} (cotação prevista: R${cotacao:.2f})\")\n"
   ]
  }
 ],
 "metadata": {
  "language_info": {
   "name": "python"
  }
 },
 "nbformat": 4,
 "nbformat_minor": 5
}
